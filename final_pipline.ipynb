{
 "cells": [
  {
   "cell_type": "code",
   "execution_count": 1,
   "metadata": {
    "collapsed": true
   },
   "outputs": [],
   "source": [
    "import numpy as np\n",
    "from numpy import nan\n",
    "import pandas as pd\n",
    "import peakutils\n",
    "from peakutils.plot import plot as pplot\n",
    "from matplotlib import pyplot as plt\n",
    "import seaborn as sns\n",
    "import statistics\n",
    "%matplotlib inline"
   ]
  },
  {
   "cell_type": "code",
   "execution_count": 2,
   "metadata": {
    "collapsed": true
   },
   "outputs": [],
   "source": [
    "file_list = ['Normalized_data/A364a_WT_exp1_new.csv',\n",
    "             'Normalized_data/A364a_WT_exp2_new.csv',\n",
    "             'Normalized_data/A364a_rad53_exp1_new.csv',\n",
    "             'Normalized_data/A364a_rad53_exp2_new.csv',\n",
    "             'Normalized_data/W303_WT_exp1_new.csv',\n",
    "             'Normalized_data/W303_WT_exp2_new.csv',\n",
    "             'Normalized_data/W303_rad53_exp1_new.csv',\n",
    "             'Normalized_data/W303_rad53_exp2_new.csv']"
   ]
  },
  {
   "cell_type": "code",
   "execution_count": 3,
   "metadata": {
    "collapsed": true
   },
   "outputs": [],
   "source": [
    "def ssDNA_peaks1(a):  \n",
    "    import numpy as np\n",
    "    from numpy import nan\n",
    "    import pandas as pd\n",
    "    import peakutils\n",
    "    from peakutils.plot import plot as pplot\n",
    "    import statistics\n",
    "    \n",
    "\n",
    "    df1 = pd.read_csv(a, sep=\",\")\n",
    "\n",
    "    cols = ['Coord', 'ssDNA']\n",
    "    chr1 = df1[['Coordinates (kb)', 'Chr1_ssDNA_new']]\n",
    "    chr1 = chr1.dropna()\n",
    "    #chr1[chr1 < 0] = nan\n",
    "    chr1.columns = cols\n",
    "    chr1['chromosome'] = 1\n",
    "\n",
    "    chr2 = df1[['Coordinates (kb)', 'Chr2_ssDNA_new']]\n",
    "    chr2 = chr2.dropna()\n",
    "    #chr2[chr2 < 0] = nan\n",
    "    chr2.columns = cols\n",
    "    chr2['chromosome'] = 2\n",
    "\n",
    "    chr3 = df1[['Coordinates (kb)', 'Chr3_ssDNA_new']]\n",
    "    chr3 = chr3.dropna()\n",
    "    #chr3[chr3 < 0] = nan\n",
    "    chr3.columns = cols\n",
    "    chr3['chromosome'] = 3\n",
    "\n",
    "    chr4 = df1[['Coordinates (kb)', 'Chr4_ssDNA_new']]\n",
    "    chr4 = chr4.dropna()\n",
    "    #chr4[chr4 < 0] = nan\n",
    "    chr4.columns = cols\n",
    "    chr4['chromosome'] = 4\n",
    "\n",
    "    chr5 = df1[['Coordinates (kb)', 'Chr5_ssDNA_new']]\n",
    "    chr5 = chr5.dropna()\n",
    "    #chr5[chr5 < 0] = nan\n",
    "    chr5.columns = cols\n",
    "    chr5['chromosome'] = 5\n",
    "\n",
    "    chr6 = df1[['Coordinates (kb)', 'Chr6_ssDNA_new']]\n",
    "    chr6 = chr6.dropna()\n",
    "    #chr6[chr6 < 0] = nan\n",
    "    chr6.columns = cols\n",
    "    chr6['chromosome'] = 6\n",
    "\n",
    "    chr7 = df1[['Coordinates (kb)', 'Chr7_ssDNA_new']]\n",
    "    chr7 = chr7.dropna()\n",
    "    #chr7[chr7 < 0] = nan\n",
    "    chr7.columns = cols\n",
    "    chr7['chromosome'] = 7\n",
    "\n",
    "    chr8 = df1[['Coordinates (kb)', 'Chr8_ssDNA_new']]\n",
    "    chr8 = chr8.dropna()\n",
    "    #chr8[chr8 < 0] = nan\n",
    "    chr8.columns = cols\n",
    "    chr8['chromosome'] = 8\n",
    "\n",
    "    chr9 = df1[['Coordinates (kb)', 'Chr9_ssDNA_new']]\n",
    "    chr9 = chr9.dropna()\n",
    "    #chr9[chr9 < 0] = nan\n",
    "    chr9.columns = cols\n",
    "    chr9['chromosome'] = 9\n",
    "\n",
    "    chr10 = df1[['Coordinates (kb)', 'Chr10_ssDNA_new']]\n",
    "    chr10 = chr10.dropna()\n",
    "    #chr10[chr10 < 0] = nan\n",
    "    chr10.columns = cols\n",
    "    chr10['chromosome'] = 10\n",
    "\n",
    "    chr11 = df1[['Coordinates (kb)', 'Chr11_ssDNA_new']]\n",
    "    chr11 = chr11.dropna()\n",
    "    #chr11[chr11 < 0] = nan\n",
    "    chr11.columns = cols\n",
    "    chr11['chromosome'] = 11\n",
    "\n",
    "    chr12 = df1[['Coordinates (kb)', 'Chr12_ssDNA_new']]\n",
    "    chr12 = chr12.dropna()\n",
    "    #chr12[chr12 < 0] = nan\n",
    "    chr12.columns = cols\n",
    "    chr12['chromosome'] = 12\n",
    "\n",
    "    chr13 = df1[['Coordinates (kb)', 'Chr13_ssDNA_new']]\n",
    "    chr13 = chr13.dropna()\n",
    "    #chr13[chr13 < 0] = nan\n",
    "    chr13.columns = cols\n",
    "    chr13['chromosome'] = 13\n",
    "\n",
    "    chr14 = df1[['Coordinates (kb)', 'Chr14_ssDNA_new']]\n",
    "    chr14 = chr14.dropna()\n",
    "    #chr14[chr14 < 0] = nan\n",
    "    chr14.columns = cols\n",
    "    chr14['chromosome'] = 14\n",
    "\n",
    "    chr15 = df1[['Coordinates (kb)', 'Chr15_ssDNA_new']]\n",
    "    chr15 = chr15.dropna()\n",
    "    #chr15[chr15 < 0] = nan\n",
    "    chr15.columns = cols\n",
    "    chr15['chromosome'] = 15\n",
    "\n",
    "    chr16 = df1[['Coordinates (kb)', 'Chr16_ssDNA_new']]\n",
    "    chr16 = chr16.dropna()\n",
    "    #chr16[chr16 < 0] = nan\n",
    "    chr16.columns = cols\n",
    "    chr16['chromosome'] = 16\n",
    "\n",
    "    All_chro = pd.concat([chr1, chr2, chr3, chr4, chr5, chr6, chr7, chr8, chr9, chr10])\n",
    "    All_chro = pd.concat([All_chro, chr11, chr12, chr13, chr14, chr15, chr16])\n",
    "    All_chro = All_chro.reset_index(drop=True)\n",
    "\n",
    "\n",
    "\n",
    "    Med = statistics.median(All_chro['ssDNA'])\n",
    "\n",
    "    mylist = []\n",
    "    for ss in All_chro['ssDNA']:\n",
    "        if ss < Med:\n",
    "            mylist.append(ss)\n",
    "    subdata = np.array(mylist)\n",
    "\n",
    "    mylist_std = statistics.stdev(mylist)\n",
    "\n",
    "    Cutoff = Med + mylist_std*3\n",
    "\n",
    "    thres_percentage = (Cutoff - All_chro['ssDNA'].min())/(All_chro['ssDNA'].max() - All_chro['ssDNA'].min())\n",
    "\n",
    "    Min_dist_testing_list = [1, 2, 4, 6, 8, 10]\n",
    "\n",
    "    for y in Min_dist_testing_list:\n",
    "\n",
    "        indexes = peakutils.indexes(All_chro['ssDNA'], thres=thres_percentage, min_dist=y)\n",
    "\n",
    "        print(\"name: {}\".format(a), \" \", y, \" \", len(indexes))\n",
    "\n",
    "        Peak_list = [\"Index\", \"Chromosome\", \"Coord_kb\", \"ssDNA\"]\n",
    "        j = 0\n",
    "        while j < len(indexes):\n",
    "            arr = np.array([indexes[j], All_chro['chromosome'][indexes[j]], All_chro['Coord'][indexes[j]], All_chro['ssDNA'][indexes[j]]])\n",
    "            Peak_list = np.vstack((Peak_list, arr))\n",
    "            j += 1\n",
    "\n",
    "        df2 = pd.DataFrame(Peak_list)\n",
    "        df2.to_csv(\"Identified_ssDNA_Peaks/Min_dist_{}_{}.csv\".format(y, a[16:]), header=None,index=False)"
   ]
  },
  {
   "cell_type": "code",
   "execution_count": 4,
   "metadata": {},
   "outputs": [
    {
     "name": "stdout",
     "output_type": "stream",
     "text": [
      "name: Normalized_data/A364a_WT_exp1_new.csv   1   322\n",
      "name: Normalized_data/A364a_WT_exp1_new.csv   2   317\n",
      "name: Normalized_data/A364a_WT_exp1_new.csv   4   314\n",
      "name: Normalized_data/A364a_WT_exp1_new.csv   6   309\n",
      "name: Normalized_data/A364a_WT_exp1_new.csv   8   300\n",
      "name: Normalized_data/A364a_WT_exp1_new.csv   10   271\n",
      "name: Normalized_data/A364a_WT_exp2_new.csv   1   257\n",
      "name: Normalized_data/A364a_WT_exp2_new.csv   2   256\n",
      "name: Normalized_data/A364a_WT_exp2_new.csv   4   250\n",
      "name: Normalized_data/A364a_WT_exp2_new.csv   6   246\n",
      "name: Normalized_data/A364a_WT_exp2_new.csv   8   232\n",
      "name: Normalized_data/A364a_WT_exp2_new.csv   10   219\n",
      "name: Normalized_data/A364a_rad53_exp1_new.csv   1   456\n",
      "name: Normalized_data/A364a_rad53_exp1_new.csv   2   454\n",
      "name: Normalized_data/A364a_rad53_exp1_new.csv   4   445\n",
      "name: Normalized_data/A364a_rad53_exp1_new.csv   6   441\n",
      "name: Normalized_data/A364a_rad53_exp1_new.csv   8   434\n",
      "name: Normalized_data/A364a_rad53_exp1_new.csv   10   427\n",
      "name: Normalized_data/A364a_rad53_exp2_new.csv   1   504\n",
      "name: Normalized_data/A364a_rad53_exp2_new.csv   2   501\n",
      "name: Normalized_data/A364a_rad53_exp2_new.csv   4   497\n",
      "name: Normalized_data/A364a_rad53_exp2_new.csv   6   494\n",
      "name: Normalized_data/A364a_rad53_exp2_new.csv   8   488\n",
      "name: Normalized_data/A364a_rad53_exp2_new.csv   10   480\n",
      "name: Normalized_data/W303_WT_exp1_new.csv   1   207\n",
      "name: Normalized_data/W303_WT_exp1_new.csv   2   206\n",
      "name: Normalized_data/W303_WT_exp1_new.csv   4   204\n",
      "name: Normalized_data/W303_WT_exp1_new.csv   6   202\n",
      "name: Normalized_data/W303_WT_exp1_new.csv   8   194\n",
      "name: Normalized_data/W303_WT_exp1_new.csv   10   186\n",
      "name: Normalized_data/W303_WT_exp2_new.csv   1   263\n",
      "name: Normalized_data/W303_WT_exp2_new.csv   2   258\n",
      "name: Normalized_data/W303_WT_exp2_new.csv   4   253\n",
      "name: Normalized_data/W303_WT_exp2_new.csv   6   249\n",
      "name: Normalized_data/W303_WT_exp2_new.csv   8   248\n",
      "name: Normalized_data/W303_WT_exp2_new.csv   10   246\n",
      "name: Normalized_data/W303_rad53_exp1_new.csv   1   489\n",
      "name: Normalized_data/W303_rad53_exp1_new.csv   2   487\n",
      "name: Normalized_data/W303_rad53_exp1_new.csv   4   485\n",
      "name: Normalized_data/W303_rad53_exp1_new.csv   6   483\n",
      "name: Normalized_data/W303_rad53_exp1_new.csv   8   480\n",
      "name: Normalized_data/W303_rad53_exp1_new.csv   10   475\n",
      "name: Normalized_data/W303_rad53_exp2_new.csv   1   473\n",
      "name: Normalized_data/W303_rad53_exp2_new.csv   2   471\n",
      "name: Normalized_data/W303_rad53_exp2_new.csv   4   471\n",
      "name: Normalized_data/W303_rad53_exp2_new.csv   6   471\n",
      "name: Normalized_data/W303_rad53_exp2_new.csv   8   469\n",
      "name: Normalized_data/W303_rad53_exp2_new.csv   10   466\n"
     ]
    }
   ],
   "source": [
    "for x in file_list:\n",
    "    ssDNA_peaks1(x)"
   ]
  },
  {
   "cell_type": "code",
   "execution_count": 5,
   "metadata": {
    "collapsed": true
   },
   "outputs": [],
   "source": [
    "Mid_Dist = [1, 2, 4, 6, 8, 10]\n",
    "file_name = []\n",
    "for x in Mid_Dist:\n",
    "    for y in file_list:\n",
    "        file_name.append(\"Min_dist_\"+ str(x) +\"_\"+y[16:]+\".csv\")"
   ]
  },
  {
   "cell_type": "code",
   "execution_count": 6,
   "metadata": {
    "collapsed": true
   },
   "outputs": [],
   "source": [
    " def PeakBed(x):\n",
    "        df3 = pd.read_csv(\"Identified_ssDNA_Peaks/{}\".format(x), sep=\",\")\n",
    "        df3['Chromosome'] = df3['Chromosome'].astype(int)\n",
    "        df3['Index'] = df3['Index'].astype(int)\n",
    "\n",
    "        df4= df3[['Index','Chromosome', 'Coord_kb', 'ssDNA']]\n",
    "\n",
    "        df4['Start'] = (df4['Coord_kb'])*1000\n",
    "        df4['end'] = (df4['Coord_kb'])*1000\n",
    "\n",
    "        df4['Chromosome'] = df4['Chromosome'].astype(str)\n",
    "        df4['Coord_kb'] = df4['Coord_kb'].astype(str)\n",
    "        df4['Start'] = df4['Start'].astype(int)\n",
    "        df4['end'] = df4['end'].astype(int)\n",
    "        df4['Chr'] = \"chr\" + df4['Chromosome']\n",
    "        df4['Description'] = \"PeakIndex\" + df4['Coord_kb'] + \":\" + df4['ssDNA'].astype(str)\n",
    "\n",
    "        df5 = df4[['Chr', 'Start', 'end', 'Description']]\n",
    "\n",
    "        df5.to_csv(\"Identified_ssDNA_Peaks/Peak_bed/{}.bed\".format(x), header=None,index=None, sep='\\t', mode = 'a')\n",
    "        \n",
    "        return len(df5.Start)"
   ]
  },
  {
   "cell_type": "code",
   "execution_count": 16,
   "metadata": {},
   "outputs": [
    {
     "data": {
      "text/plain": [
       "[{'Min_dist_1_A364a_WT_exp1_new.csv.csv': 322},\n",
       " {'Min_dist_1_A364a_WT_exp2_new.csv.csv': 257},\n",
       " {'Min_dist_1_A364a_rad53_exp1_new.csv.csv': 456},\n",
       " {'Min_dist_1_A364a_rad53_exp2_new.csv.csv': 504},\n",
       " {'Min_dist_1_W303_WT_exp1_new.csv.csv': 207},\n",
       " {'Min_dist_1_W303_WT_exp2_new.csv.csv': 263},\n",
       " {'Min_dist_1_W303_rad53_exp1_new.csv.csv': 489},\n",
       " {'Min_dist_1_W303_rad53_exp2_new.csv.csv': 473},\n",
       " {'Min_dist_2_A364a_WT_exp1_new.csv.csv': 317},\n",
       " {'Min_dist_2_A364a_WT_exp2_new.csv.csv': 256},\n",
       " {'Min_dist_2_A364a_rad53_exp1_new.csv.csv': 454},\n",
       " {'Min_dist_2_A364a_rad53_exp2_new.csv.csv': 501},\n",
       " {'Min_dist_2_W303_WT_exp1_new.csv.csv': 206},\n",
       " {'Min_dist_2_W303_WT_exp2_new.csv.csv': 258},\n",
       " {'Min_dist_2_W303_rad53_exp1_new.csv.csv': 487},\n",
       " {'Min_dist_2_W303_rad53_exp2_new.csv.csv': 471},\n",
       " {'Min_dist_4_A364a_WT_exp1_new.csv.csv': 314},\n",
       " {'Min_dist_4_A364a_WT_exp2_new.csv.csv': 250},\n",
       " {'Min_dist_4_A364a_rad53_exp1_new.csv.csv': 445},\n",
       " {'Min_dist_4_A364a_rad53_exp2_new.csv.csv': 497},\n",
       " {'Min_dist_4_W303_WT_exp1_new.csv.csv': 204},\n",
       " {'Min_dist_4_W303_WT_exp2_new.csv.csv': 253},\n",
       " {'Min_dist_4_W303_rad53_exp1_new.csv.csv': 485},\n",
       " {'Min_dist_4_W303_rad53_exp2_new.csv.csv': 471},\n",
       " {'Min_dist_6_A364a_WT_exp1_new.csv.csv': 309},\n",
       " {'Min_dist_6_A364a_WT_exp2_new.csv.csv': 246},\n",
       " {'Min_dist_6_A364a_rad53_exp1_new.csv.csv': 441},\n",
       " {'Min_dist_6_A364a_rad53_exp2_new.csv.csv': 494},\n",
       " {'Min_dist_6_W303_WT_exp1_new.csv.csv': 202},\n",
       " {'Min_dist_6_W303_WT_exp2_new.csv.csv': 249},\n",
       " {'Min_dist_6_W303_rad53_exp1_new.csv.csv': 483},\n",
       " {'Min_dist_6_W303_rad53_exp2_new.csv.csv': 471},\n",
       " {'Min_dist_8_A364a_WT_exp1_new.csv.csv': 300},\n",
       " {'Min_dist_8_A364a_WT_exp2_new.csv.csv': 232},\n",
       " {'Min_dist_8_A364a_rad53_exp1_new.csv.csv': 434},\n",
       " {'Min_dist_8_A364a_rad53_exp2_new.csv.csv': 488},\n",
       " {'Min_dist_8_W303_WT_exp1_new.csv.csv': 194},\n",
       " {'Min_dist_8_W303_WT_exp2_new.csv.csv': 248},\n",
       " {'Min_dist_8_W303_rad53_exp1_new.csv.csv': 480},\n",
       " {'Min_dist_8_W303_rad53_exp2_new.csv.csv': 469},\n",
       " {'Min_dist_10_A364a_WT_exp1_new.csv.csv': 271},\n",
       " {'Min_dist_10_A364a_WT_exp2_new.csv.csv': 219},\n",
       " {'Min_dist_10_A364a_rad53_exp1_new.csv.csv': 427},\n",
       " {'Min_dist_10_A364a_rad53_exp2_new.csv.csv': 480},\n",
       " {'Min_dist_10_W303_WT_exp1_new.csv.csv': 186},\n",
       " {'Min_dist_10_W303_WT_exp2_new.csv.csv': 246},\n",
       " {'Min_dist_10_W303_rad53_exp1_new.csv.csv': 475},\n",
       " {'Min_dist_10_W303_rad53_exp2_new.csv.csv': 466}]"
      ]
     },
     "execution_count": 16,
     "metadata": {},
     "output_type": "execute_result"
    }
   ],
   "source": [
    "Total_Peak = []\n",
    "for x in file_name:\n",
    "    a = PeakBed(x)\n",
    "    dic = {x : a}\n",
    "    Total_Peak.append(dic.copy())\n",
    "Total_Peak"
   ]
  },
  {
   "cell_type": "code",
   "execution_count": null,
   "metadata": {
    "collapsed": true
   },
   "outputs": [],
   "source": [
    "df6 = pd.read_csv('origins_oridb.txt', sep=\"\\t\")\n",
    "\n",
    "expansion = [100, 250, 500, 1000, 1500, 2000, 2500, 3000, 3500, 4000, 4500, 5000, 5500, 6000]\n",
    "\n",
    "for y in expansion:\n",
    "    df6['start'] = df6['Mid_point'] - y\n",
    "    df6['end'] = df6['Mid_point'] + y\n",
    "    num = df6._get_numeric_data()\n",
    "    num[num < 0] = 0\n",
    "    df6['chro'] = \"chr\" + df6['chr'].astype(str)\n",
    "    df6['start'] = df6['start'].astype(int)\n",
    "    df6['end'] = df6['end'].astype(int)\n",
    "    origins = df6[['chro', 'start', 'end', 'name']]\n",
    "    origins.to_csv(\"Identified_ssDNA_Peaks/Peak_bed/ori{}.bed\".format(y), header=None,index=None, sep='\\t', mode = 'a')"
   ]
  },
  {
   "cell_type": "code",
   "execution_count": null,
   "metadata": {},
   "outputs": [],
   "source": [
    "%%bash\n",
    "pwd\n",
    "cd Identified_ssDNA_Peaks/Peak_bed\n",
    "pwd\n",
    "for ori in ori*.bed\n",
    "do\n",
    "    for peak in Min_dist_*.csv.csv.bed\n",
    "    do\n",
    "        bedtools intersect -a ${ori} -b ${peak} -wa -wb> Asso/${ori}_${peak}.txt\n",
    "    done\n",
    "done\n",
    "       "
   ]
  },
  {
   "cell_type": "code",
   "execution_count": null,
   "metadata": {},
   "outputs": [],
   "source": [
    "expansion = [100, 250, 500, 1000, 1500, 2000, 2500, 3000, 3500, 4000, 4500, 5000, 5500, 6000]\n",
    "Peak_dist = pd.DataFrame()\n",
    "Origin_dist = pd.DataFrame()\n",
    "for expa in expansion:\n",
    "    for file in file_name:\n",
    "        dfop = pd.read_csv(\"Identified_ssDNA_Peaks/Peak_bed/Asso/ori{}.bed_{}.bed.txt\".format(expa, file), header = None, sep=\"\\t\")\n",
    "        col_op = ['Ori_chr', 'Ori_start', 'Ori_end', 'Ori_name', 'Peak_chr', 'Peak_start', 'Peak_end', 'Peak_name']\n",
    "        dfop.columns = col_op\n",
    "        dfop['Peak'] =dfop['Peak_chr'] + ':' + dfop['Peak_start'].astype(str) + '-' + dfop['Peak_end'].astype(str) + ':' + dfop['Peak_name']\n",
    "        ddfop = pd.DataFrame()\n",
    "        ddfop['Peak'] = dfop['Peak']\n",
    "        ap = pd.DataFrame(ddfop['Peak'].value_counts())\n",
    "        bp= pd.DataFrame(ap['Peak'].value_counts())\n",
    "        bp['expation'] = expa\n",
    "        bp['strain'] = file\n",
    "        Origin_dist = Origin_dist.append(bp)\n",
    "        dfop['Ori'] =dfop['Ori_chr'] + ':' + dfop['Ori_start'].astype(str) + '-' + dfop['Ori_end'].astype(str) + ':' + dfop['Ori_name']\n",
    "        dpfop = pd.DataFrame()\n",
    "        dpfop['Ori'] = dfop['Ori']\n",
    "        ao = pd.DataFrame(dpfop['Ori'].value_counts())\n",
    "        bo= pd.DataFrame(ao['Ori'].value_counts())\n",
    "        bo['expation'] = expa\n",
    "        bo['strain'] = file\n",
    "        Peak_dist = Peak_dist.append(bo)\n",
    "        #print(bo)\n",
    "        #print(\"********\")\n",
    "        #print(bp)\n",
    "Peak_dist.to_csv(\"Identified_ssDNA_Peaks/Peak_bed/Asso/Dist/Peak_dist.txt\", sep='\\t')\n",
    "Origin_dist.to_csv(\"Identified_ssDNA_Peaks/Peak_bed/Asso/Dist/Origin_dist.txt\", sep='\\t')"
   ]
  },
  {
   "cell_type": "code",
   "execution_count": 2,
   "metadata": {
    "collapsed": true
   },
   "outputs": [],
   "source": [
    "All_Asso_ori = pd.read_csv('Identified_ssDNA_Peaks/Peak_bed/Asso/OriANA_ori2000/Fired_origins.txt', sep=\"\\t\")\n",
    "\n",
    "A364a_WT_1 = All_Asso_ori['A364a_WT_1']\n",
    "A364a_WT_1 = A364a_WT_1.dropna()\n",
    "\n",
    "A364a_rad53_1 = All_Asso_ori['A364a_rad53_1']\n",
    "A364a_rad53_1 = A364a_rad53_1.dropna()\n",
    "\n",
    "A364a_WT_2 = All_Asso_ori['A364a_WT_2']\n",
    "A364a_WT_2 = A364a_WT_2.dropna()\n",
    "\n",
    "A364a_rad53_2 = All_Asso_ori['A364a_rad53_2']\n",
    "A364a_rad53_2 = A364a_rad53_2.dropna()\n",
    "\n",
    "W303_WT_1 = All_Asso_ori['W303_WT_1']\n",
    "W303_WT_1 = W303_WT_1.dropna()\n",
    "\n",
    "W303_rad53_1 = All_Asso_ori['W303_rad53_1']\n",
    "W303_rad53_1 = W303_rad53_1.dropna()\n",
    "#pd.options.display.max_rows = 999\n",
    "#print(W303_rad53_1)\n",
    "\n",
    "W303_WT_2 = All_Asso_ori['W303_WT_2']\n",
    "W303_WT_2 = W303_WT_2.dropna()\n",
    "\n",
    "W303_rad53_2 = All_Asso_ori['W303_rad53_2']\n",
    "W303_rad53_2 = W303_rad53_2.dropna()\n",
    "\n"
   ]
  },
  {
   "cell_type": "code",
   "execution_count": 4,
   "metadata": {
    "collapsed": true
   },
   "outputs": [],
   "source": [
    "A364a_WT = list(set(A364a_WT_1).intersection(A364a_WT_2))\n",
    "A364a_WT = pd.DataFrame(A364a_WT)\n",
    "A364a_WT.columns = ['A364a_WT']\n",
    "A364a_WT.to_csv(\"Identified_ssDNA_Peaks/Peak_bed/Asso/OriANA/A364a_WT_common.txt\",index=None, sep='\\t')\n",
    "\n",
    "A364a_rad53 = list(set(A364a_rad53_1).intersection(A364a_rad53_2))\n",
    "A364a_rad53 = pd.DataFrame(A364a_rad53)\n",
    "A364a_rad53.columns = ['A364a_rad53']\n",
    "A364a_rad53.to_csv(\"Identified_ssDNA_Peaks/Peak_bed/Asso/OriANA/A364a_rad53_common.txt\",index=None, sep='\\t')\n",
    "\n",
    "W303_WT = list(set(W303_WT_1).intersection(W303_WT_2))\n",
    "W303_WT = pd.DataFrame(W303_WT)\n",
    "W303_WT.columns = ['W303_WT']\n",
    "W303_WT.to_csv(\"Identified_ssDNA_Peaks/Peak_bed/Asso/OriANA/W303_WT_common.txt\",index=None, sep='\\t')\n",
    "\n",
    "W303_rad53 = list(set(W303_rad53_1).intersection(W303_rad53_2))\n",
    "W303_rad53 = pd.DataFrame(W303_rad53)\n",
    "W303_rad53.columns = ['W303_rad53']\n",
    "W303_rad53.to_csv(\"Identified_ssDNA_Peaks/Peak_bed/Asso/OriANA/W303_rad53_common.txt\", index=None, sep='\\t')\n",
    "\n"
   ]
  },
  {
   "cell_type": "code",
   "execution_count": 5,
   "metadata": {},
   "outputs": [
    {
     "data": {
      "image/png": "[encoded data removed]",
      "text/plain": [
       "<matplotlib.figure.Figure at 0x10597d588>"
      ]
     },
     "metadata": {},
     "output_type": "display_data"
    }
   ],
   "source": [
    "from matplotlib_venn import venn2\n",
    "venn2([set(A364a_WT_1), set(A364a_WT_2)], ('Exp1', 'Exp2'))\n",
    "plt.title(\"A364a WT\")\n",
    "plt.show()\n"
   ]
  },
  {
   "cell_type": "code",
   "execution_count": 6,
   "metadata": {},
   "outputs": [
    {
     "data": {
      "image/png": "[encoded data removed]",
      "text/plain": [
       "<matplotlib.figure.Figure at 0x111868240>"
      ]
     },
     "metadata": {},
     "output_type": "display_data"
    }
   ],
   "source": [
    "venn2([set(A364a_rad53_1), set(A364a_rad53_2)], ('Exp1', 'Exp2'))\n",
    "plt.title(\"A364a rad53\")\n",
    "plt.show()"
   ]
  },
  {
   "cell_type": "code",
   "execution_count": 7,
   "metadata": {},
   "outputs": [
    {
     "data": {
      "image/png": "[encoded data removed]",
      "text/plain": [
       "<matplotlib.figure.Figure at 0x1118c2320>"
      ]
     },
     "metadata": {},
     "output_type": "display_data"
    }
   ],
   "source": [
    "venn2([set(W303_WT_1), set(W303_WT_2)], ('Exp1', 'Exp2'))\n",
    "plt.title(\"W303 WT\")\n",
    "plt.show()"
   ]
  },
  {
   "cell_type": "code",
   "execution_count": 8,
   "metadata": {},
   "outputs": [
    {
     "data": {
      "image/png": "[encoded data removed]",
      "text/plain": [
       "<matplotlib.figure.Figure at 0x11403d080>"
      ]
     },
     "metadata": {},
     "output_type": "display_data"
    }
   ],
   "source": [
    "venn2([set(W303_rad53_1), set(W303_rad53_2)], ('Exp1', 'Exp2'))\n",
    "plt.title(\"W303 rad53\")\n",
    "plt.show()"
   ]
  },
  {
   "cell_type": "code",
   "execution_count": 9,
   "metadata": {
    "collapsed": true
   },
   "outputs": [],
   "source": [
    "merge1 = pd.merge(A364a_WT, A364a_rad53, how = 'outer', left_on = 'A364a_WT', right_on = 'A364a_rad53')\n",
    "merge1.to_csv(\"Identified_ssDNA_Peaks/Peak_bed/Asso/OriANA/A364A_origins.txt\",index=None, sep='\\t')\n",
    "merge2 = pd.merge(W303_WT, W303_rad53, how = 'outer', left_on = 'W303_WT', right_on = 'W303_rad53')\n",
    "merge2.to_csv(\"Identified_ssDNA_Peaks/Peak_bed/Asso/OriANA/W303_origins.txt\",index=None, sep='\\t')"
   ]
  },
  {
   "cell_type": "code",
   "execution_count": 10,
   "metadata": {},
   "outputs": [
    {
     "data": {
      "image/png": "[encoded data removed]",
      "text/plain": [
       "<matplotlib.figure.Figure at 0x11403dda0>"
      ]
     },
     "metadata": {},
     "output_type": "display_data"
    }
   ],
   "source": [
    "A364a_WT = list(set(A364a_WT_1).intersection(A364a_WT_2))\n",
    "A364a_rad53 = list(set(A364a_rad53_1).intersection(A364a_rad53_2))\n",
    "\n",
    "venn2([set(A364a_WT), set(A364a_rad53)], ('WT', 'rad53'))\n",
    "plt.title(\"A364a origins\")\n",
    "plt.show()"
   ]
  },
  {
   "cell_type": "code",
   "execution_count": 11,
   "metadata": {},
   "outputs": [
    {
     "data": {
      "image/png": "[encoded data removed]",
      "text/plain": [
       "<matplotlib.figure.Figure at 0x114040e80>"
      ]
     },
     "metadata": {},
     "output_type": "display_data"
    }
   ],
   "source": [
    "W303_WT = list(set(W303_WT_1).intersection(W303_WT_2))\n",
    "W303_rad53 = list(set(W303_rad53_1).intersection(W303_rad53_2))\n",
    "\n",
    "venn2([set(W303_WT), set(W303_rad53)], ('WT', 'rad53'))\n",
    "plt.title(\"W303 origins\")\n",
    "plt.show()"
   ]
  },
  {
   "cell_type": "code",
   "execution_count": null,
   "metadata": {
    "collapsed": true
   },
   "outputs": [],
   "source": []
  },
  {
   "cell_type": "code",
   "execution_count": 2,
   "metadata": {
    "collapsed": true
   },
   "outputs": [],
   "source": [
    "import pybedtools"
   ]
  },
  {
   "cell_type": "code",
   "execution_count": 16,
   "metadata": {
    "collapsed": true
   },
   "outputs": [],
   "source": [
    "strain_specific_ori_cl = pybedtools.BedTool(\"\"\"\n",
    "                        chr1 649 1791\n",
    "                        chr1 16854 17565\n",
    "                        chr1 161999 170000\n",
    "                        chr1 176153 176402\n",
    "                        chr2 28932 29152\n",
    "                        chr2 177528 177877\n",
    "                        chr2 187204 187915\n",
    "                        chr2 254889 255136\n",
    "                        chr2 611268 613200\n",
    "                        chr2 675946 676667\n",
    "                        chr3 11302 14854\n",
    "                        chr3 14573 14849\n",
    "                        chr3 14869 15213\n",
    "                        chr3 15212 16274\n",
    "                        chr3 30198 30657\n",
    "                        chr3 114313 114933\n",
    "                        chr3 203875 207534\n",
    "                        chr3 292523 292826\n",
    "                        chr3 304362 311363\n",
    "                        chr4 232139 232618\n",
    "                        chr4 235934 236184\n",
    "                        chr4 719872 721227\n",
    "                        chr4 875790 882791\n",
    "                        chr4 1454011 1455590\n",
    "                        chr5 6463 7230\n",
    "                        chr5 11712 12194\n",
    "                        chr5 17066 19023\n",
    "                        chr5 108552 110467\n",
    "                        chr5 276126 276526\n",
    "                        chr5 301564 302061\n",
    "                        chr6 22 1527\n",
    "                        chr6 127744 128066\n",
    "                        chr7 31979 34434\n",
    "                        chr7 114384 115095\n",
    "                        chr7 170772 172017\n",
    "                        chr7 318744 319455\n",
    "                        chr7 568489 568738\n",
    "                        chr7 1082958 1084336\n",
    "                        chr8 5157 6168\n",
    "                        chr8 9710 11566\n",
    "                        chr8 94758 95192\n",
    "                        chr8 111292 111766\n",
    "                        chr8 213178 213861\n",
    "                        chr8 214884 215595\n",
    "                        chr8 535402 535836\n",
    "                        chr8 550162 551317\n",
    "                        chr9 405632 407617\n",
    "                        chr10 99358 99796\n",
    "                        chr10 248599 249300\n",
    "                        chr10 454275 455248\n",
    "                        chr10 643812 644767\n",
    "                        chr11 22 2746\n",
    "                        chr11 7396 9007\n",
    "                        chr11 196037 196284\n",
    "                        chr11 500414 501125\n",
    "                        chr12 222409 222792\n",
    "                        chr12 458825 459141\n",
    "                        chr12 687248 687738\n",
    "                        chr12 1013788 1014017\n",
    "                        chr12 1059485 1059919\n",
    "                        chr12 1062397 1065752\n",
    "                        chr13 8790 10699\n",
    "                        chr13 420428 421629\n",
    "                        chr14 6281 10914\n",
    "                        chr14 567714 569020\n",
    "                        chr14 764000 764500\n",
    "                        chr15 9760 12672\n",
    "                        chr15 699499 709500\n",
    "                        chr15 997702 999357\n",
    "                        chr15 1022547 1023652\n",
    "                        chr16 178642 179827\n",
    "                        chr16 297812 299287\n",
    "                        chr16 303432 305027\n",
    "                        chr16 376722 377937\n",
    "                        chr16 414031 416072\n",
    "                        chr16 498852 500557\n",
    "                        \"\"\", from_string=True)\n",
    "\n"
   ]
  },
  {
   "cell_type": "code",
   "execution_count": 17,
   "metadata": {
    "collapsed": true
   },
   "outputs": [],
   "source": [
    "fasta = pybedtools.BedTool('Sequence/sacCer1_fasta/sacCer1.fa')"
   ]
  },
  {
   "cell_type": "code",
   "execution_count": 18,
   "metadata": {
    "collapsed": true
   },
   "outputs": [],
   "source": [
    "strain_specific_ori_cl = strain_specific_ori_cl.sequence(fi=fasta, s=True)"
   ]
  },
  {
   "cell_type": "code",
   "execution_count": 19,
   "metadata": {
    "collapsed": true
   },
   "outputs": [],
   "source": [
    "a = open(strain_specific_ori_cl.seqfn).read()"
   ]
  },
  {
   "cell_type": "code",
   "execution_count": 20,
   "metadata": {
    "collapsed": true
   },
   "outputs": [],
   "source": [
    "with open(\"Sequence/strain_specific_ori_cl.fa\", 'w') as f:\n",
    "    f.write(a)\n",
    "f.close()"
   ]
  },
  {
   "cell_type": "code",
   "execution_count": 21,
   "metadata": {},
   "outputs": [],
   "source": [
    "%%bash\n",
    "\n",
    "blastn -query Sequence/strain_specific_ori_cl.fa -db ~/db/blast/S288C_R64_2_1/S288C_R64_2_1 -out Sequence/strain_specific_ori_cl_071117.xml -evalue 0.001 -outfmt 5"
   ]
  },
  {
   "cell_type": "code",
   "execution_count": 13,
   "metadata": {
    "collapsed": true
   },
   "outputs": [],
   "source": [
    "from xml.dom import minidom"
   ]
  },
  {
   "cell_type": "code",
   "execution_count": 22,
   "metadata": {
    "collapsed": true
   },
   "outputs": [],
   "source": [
    "xmldoc = minidom.parse(\"Sequence/strain_specific_ori_cl_071117.xml\")"
   ]
  },
  {
   "cell_type": "code",
   "execution_count": 23,
   "metadata": {},
   "outputs": [
    {
     "name": "stdout",
     "output_type": "stream",
     "text": [
      "(1685, 13)\n",
      "(1685, 13)\n"
     ]
    }
   ],
   "source": [
    "blast_iterations = xmldoc.getElementsByTagName(\"BlastOutput_iterations\")[0]\n",
    "iterations = blast_iterations.getElementsByTagName(\"Iteration\")\n",
    "data = []\n",
    "for interation in iterations:\n",
    "    query = str(interation.getElementsByTagName(\"Iteration_query-def\")[0].firstChild.data)\n",
    "    query_len = int(interation.getElementsByTagName(\"Iteration_query-len\")[0].firstChild.data)\n",
    "    #print(query, query_len)\n",
    "    iteration_hits = interation.getElementsByTagName(\"Iteration_hits\")[0]\n",
    "    hits = iteration_hits.getElementsByTagName(\"Hit\")\n",
    "    for hit in hits:\n",
    "        hit_num = int(hit.getElementsByTagName(\"Hit_num\")[0].firstChild.data)\n",
    "        hit_desc = str(hit.getElementsByTagName(\"Hit_def\")[0].firstChild.data)\n",
    "        hit_len = int(hit.getElementsByTagName(\"Hit_len\")[0].firstChild.data)\n",
    "        hit_hsps = hit.getElementsByTagName(\"Hit_hsps\")\n",
    "        #print(hit_num, hit_desc)\n",
    "        for hit_hsp in hit_hsps:\n",
    "            hsps = hit_hsp.getElementsByTagName(\"Hsp\")\n",
    "            for hsp in hsps:\n",
    "                hsp_num = int(hit.getElementsByTagName(\"Hsp_num\")[0].firstChild.data)\n",
    "                query_from = int(hit.getElementsByTagName(\"Hsp_query-from\")[0].firstChild.data)\n",
    "                query_to = int(hit.getElementsByTagName(\"Hsp_query-to\")[0].firstChild.data)\n",
    "                hit_from = int(hit.getElementsByTagName(\"Hsp_hit-from\")[0].firstChild.data)\n",
    "                hit_to = int(hit.getElementsByTagName(\"Hsp_hit-to\")[0].firstChild.data)\n",
    "                align_len = int(hit.getElementsByTagName(\"Hsp_align-len\")[0].firstChild.data)\n",
    "                Hsp_qseq = str(hit.getElementsByTagName(\"Hsp_qseq\")[0].firstChild.data)\n",
    "                Hsp_hseq = str(hit.getElementsByTagName(\"Hsp_hseq\")[0].firstChild.data)\n",
    "                Hsp_midline = str(hit.getElementsByTagName(\"Hsp_midline\")[0].firstChild.data)\n",
    "                dt = []\n",
    "                dt.extend((query, query_len, hit_num, hit_desc, hsp_num, query_from, query_to, hit_from, hit_to, align_len, Hsp_qseq, Hsp_hseq, Hsp_midline))\n",
    "                data.append(dt)\n",
    "col = ['Query', 'Query_length', 'Hit_num', 'Hit_description','Hsp_num', 'Query_from', 'Query_to', 'Hit_from', 'Hit_to', 'Alignment_length', 'Query_seq', 'Hit_seq', 'Midline']\n",
    "\n",
    "data = pd.DataFrame(data)\n",
    "data.columns = col\n",
    "print(data.shape)\n",
    "data.drop_duplicates(keep='first')\n",
    "print(data.shape)\n",
    "data.to_csv(\"Sequence/strain_specific_ori_cl_071117.txt\", index=False, sep='\\t')"
   ]
  },
  {
   "cell_type": "code",
   "execution_count": 24,
   "metadata": {
    "collapsed": true
   },
   "outputs": [],
   "source": [
    "strain_specific_ori_cl = pybedtools.BedTool(\"\"\"\n",
    "ref|NC_001133| 649 1791\n",
    "ref|NC_001133| 16851 17562\n",
    "ref|NC_001133| 161999 170005\n",
    "ref|NC_001134| 28940 29160\n",
    "ref|NC_001134| 177566 177915\n",
    "ref|NC_001134| 187242 187953\n",
    "ref|NC_001134| 611313 613245\n",
    "ref|NC_001134| 675991 676712\n",
    "ref|NC_001135| 11302 14854\n",
    "ref|NC_001135| 14573 14849\n",
    "ref|NC_001135| 14869 15213\n",
    "ref|NC_001135| 15212 16274\n",
    "ref|NC_001135| 30198 30657\n",
    "ref|NC_001135| 114319 114939\n",
    "ref|NC_001135| 203883 207542\n",
    "ref|NC_001135| 292530 292833\n",
    "ref|NC_001135| 304369 311370\n",
    "ref|NC_001136| 232139 232618\n",
    "ref|NC_001136| 235935 236185\n",
    "ref|NC_001136| 719879 721234\n",
    "ref|NC_001136| 875798 882799\n",
    "ref|NC_001136| 1454023 1455602\n",
    "ref|NC_001137| 6463 7230\n",
    "ref|NC_001137| 11712 12194\n",
    "ref|NC_001137| 17066 19023\n",
    "ref|NC_001137| 108552 110467\n",
    "ref|NC_001137| 301566 302063\n",
    "ref|NC_001138| 22 1527\n",
    "ref|NC_001138| 127749 128071\n",
    "ref|NC_001139| 31979 34434\n",
    "ref|NC_001139| 114382 115093\n",
    "ref|NC_001139| 170768 172013\n",
    "ref|NC_001139| 318743 319454\n",
    "ref|NC_001139| 568488 568737\n",
    "ref|NC_001139| 1082954 1084332\n",
    "ref|NC_001140| 5158 6169\n",
    "ref|NC_001140| 9712 11568\n",
    "ref|NC_001140| 94763 95197\n",
    "ref|NC_001140| 111299 111773\n",
    "ref|NC_001140| 213178 213861\n",
    "ref|NC_001140| 212886 213597\n",
    "ref|NC_001140| 535406 535840\n",
    "ref|NC_001140| 550166 551321\n",
    "ref|NC_001141| 405635 407620\n",
    "ref|NC_001142| 99365 99797\n",
    "ref|NC_001142| 248903 249604\n",
    "ref|NC_001142| 454582 455555\n",
    "ref|NC_001142| 644117 645072\n",
    "ref|NC_001143| 22 2745\n",
    "ref|NC_001143| 7395 9006\n",
    "ref|NC_001143| 196040 196287\n",
    "ref|NC_001143| 500777 501488\n",
    "ref|NC_001144| 458824 459140\n",
    "ref|NC_001144| 687248 687738\n",
    "ref|NC_001144| 1013793 1014022\n",
    "ref|NC_001144| 1059489 1059923\n",
    "ref|NC_001144| 1062401 1065756\n",
    "ref|NC_001145| 8790 10698\n",
    "ref|NC_001145| 420429 421630\n",
    "ref|NC_001146| 6281 10914\n",
    "ref|NC_001146| 567718 569024\n",
    "ref|NC_001146| 764005 764505\n",
    "ref|NC_001147| 9761 12673\n",
    "ref|NC_001147| 997709 999364\n",
    "ref|NC_001147| 1022553 1023658\n",
    "ref|NC_001148| 178643 179828\n",
    "ref|NC_001148| 297813 299288\n",
    "ref|NC_001148| 303433 305028\n",
    "ref|NC_001148| 376727 377942\n",
    "ref|NC_001148| 414036 416077\n",
    "ref|NC_001148| 498856 500561\n",
    "\"\"\", from_string=True)\n",
    "\n"
   ]
  },
  {
   "cell_type": "code",
   "execution_count": 25,
   "metadata": {
    "collapsed": true
   },
   "outputs": [],
   "source": [
    "fasta_string = pybedtools.BedTool(\"Sequence/R64_2_1/S288C_R64_2_1.fsa\")\n",
    "strain_specific_ori_cl = strain_specific_ori_cl.sequence(fi=fasta_string, s=True)\n",
    "a = open(strain_specific_ori_cl.seqfn).read()\n",
    "with open(\"Sequence/strain_specific_ori_cl_update.fa\", 'w') as f:\n",
    "    f.write(a)\n",
    "f.close()"
   ]
  },
  {
   "cell_type": "code",
   "execution_count": 26,
   "metadata": {},
   "outputs": [
    {
     "name": "stdout",
     "output_type": "stream",
     "text": [
      "/Users/jiepeng/Documents/exp_data/Rad53/ssDNA_strain_diff_JP/even_250_data/data_analysis\n"
     ]
    }
   ],
   "source": [
    "%%bash\n",
    "pwd"
   ]
  },
  {
   "cell_type": "code",
   "execution_count": 27,
   "metadata": {
    "collapsed": true
   },
   "outputs": [],
   "source": [
    "%%bash\n",
    "cd Sequence/\n",
    "blastn -query strain_specific_ori_cl_update.fa -db ~/db/blast/W303/W303 -out output/To_W303/strain_specific_ori_cl_W303.xml -evalue 0.001 -outfmt 5\n",
    "\n",
    "blastn -query strain_specific_ori_cl_update.fa -db ~/db/blast/A364a/A364a -out output/To_A364a/strain_specific_ori_cl_A364a.xml -evalue 0.001 -outfmt 5"
   ]
  },
  {
   "cell_type": "code",
   "execution_count": 29,
   "metadata": {},
   "outputs": [
    {
     "name": "stdout",
     "output_type": "stream",
     "text": [
      "(508, 13)\n",
      "(508, 13)\n"
     ]
    }
   ],
   "source": [
    "xmldoc = minidom.parse(\"Sequence/output/To_A364a/strain_specific_ori_cl_A364a.xml\")\n",
    "blast_iterations = xmldoc.getElementsByTagName(\"BlastOutput_iterations\")[0]\n",
    "iterations = blast_iterations.getElementsByTagName(\"Iteration\")\n",
    "data = []\n",
    "for interation in iterations:\n",
    "    query = str(interation.getElementsByTagName(\"Iteration_query-def\")[0].firstChild.data)\n",
    "    query_len = int(interation.getElementsByTagName(\"Iteration_query-len\")[0].firstChild.data)\n",
    "    #print(query, query_len)\n",
    "    iteration_hits = interation.getElementsByTagName(\"Iteration_hits\")[0]\n",
    "    hits = iteration_hits.getElementsByTagName(\"Hit\")\n",
    "    for hit in hits:\n",
    "        hit_num = int(hit.getElementsByTagName(\"Hit_num\")[0].firstChild.data)\n",
    "        hit_desc = str(hit.getElementsByTagName(\"Hit_def\")[0].firstChild.data)\n",
    "        hit_len = int(hit.getElementsByTagName(\"Hit_len\")[0].firstChild.data)\n",
    "        hit_hsps = hit.getElementsByTagName(\"Hit_hsps\")\n",
    "        #print(hit_num, hit_desc)\n",
    "        for hit_hsp in hit_hsps:\n",
    "            hsps = hit_hsp.getElementsByTagName(\"Hsp\")\n",
    "            for hsp in hsps:\n",
    "                hsp_num = int(hit.getElementsByTagName(\"Hsp_num\")[0].firstChild.data)\n",
    "                query_from = int(hit.getElementsByTagName(\"Hsp_query-from\")[0].firstChild.data)\n",
    "                query_to = int(hit.getElementsByTagName(\"Hsp_query-to\")[0].firstChild.data)\n",
    "                hit_from = int(hit.getElementsByTagName(\"Hsp_hit-from\")[0].firstChild.data)\n",
    "                hit_to = int(hit.getElementsByTagName(\"Hsp_hit-to\")[0].firstChild.data)\n",
    "                align_len = int(hit.getElementsByTagName(\"Hsp_align-len\")[0].firstChild.data)\n",
    "                Hsp_qseq = str(hit.getElementsByTagName(\"Hsp_qseq\")[0].firstChild.data)\n",
    "                Hsp_hseq = str(hit.getElementsByTagName(\"Hsp_hseq\")[0].firstChild.data)\n",
    "                Hsp_midline = str(hit.getElementsByTagName(\"Hsp_midline\")[0].firstChild.data)\n",
    "                dt = []\n",
    "                dt.extend((query, query_len, hit_num, hit_desc, hsp_num, query_from, query_to, hit_from, hit_to, align_len, Hsp_qseq, Hsp_hseq, Hsp_midline))\n",
    "                data.append(dt)\n",
    "col = ['Query', 'Query_length', 'Hit_num', 'Hit_description','Hsp_num', 'Query_from', 'Query_to', 'Hit_from', 'Hit_to', 'Alignment_length', 'Query_seq', 'Hit_seq', 'Midline']\n",
    "\n",
    "data = pd.DataFrame(data)\n",
    "data.columns = col\n",
    "print(data.shape)\n",
    "data.drop_duplicates(keep='first')\n",
    "print(data.shape)\n",
    "data.to_csv(\"Sequence/output/To_A364a/strain_specific_ori_cl_A364a.txt\", index=False, sep='\\t')"
   ]
  },
  {
   "cell_type": "code",
   "execution_count": 30,
   "metadata": {},
   "outputs": [
    {
     "name": "stdout",
     "output_type": "stream",
     "text": [
      "(701, 13)\n",
      "(701, 13)\n"
     ]
    }
   ],
   "source": [
    "xmldoc = minidom.parse(\"Sequence/output/To_W303/strain_specific_ori_cl_W303.xml\")\n",
    "blast_iterations = xmldoc.getElementsByTagName(\"BlastOutput_iterations\")[0]\n",
    "iterations = blast_iterations.getElementsByTagName(\"Iteration\")\n",
    "data = []\n",
    "for interation in iterations:\n",
    "    query = str(interation.getElementsByTagName(\"Iteration_query-def\")[0].firstChild.data)\n",
    "    query_len = int(interation.getElementsByTagName(\"Iteration_query-len\")[0].firstChild.data)\n",
    "    #print(query, query_len)\n",
    "    iteration_hits = interation.getElementsByTagName(\"Iteration_hits\")[0]\n",
    "    hits = iteration_hits.getElementsByTagName(\"Hit\")\n",
    "    for hit in hits:\n",
    "        hit_num = int(hit.getElementsByTagName(\"Hit_num\")[0].firstChild.data)\n",
    "        hit_desc = str(hit.getElementsByTagName(\"Hit_def\")[0].firstChild.data)\n",
    "        hit_len = int(hit.getElementsByTagName(\"Hit_len\")[0].firstChild.data)\n",
    "        hit_hsps = hit.getElementsByTagName(\"Hit_hsps\")\n",
    "        #print(hit_num, hit_desc)\n",
    "        for hit_hsp in hit_hsps:\n",
    "            hsps = hit_hsp.getElementsByTagName(\"Hsp\")\n",
    "            for hsp in hsps:\n",
    "                hsp_num = int(hit.getElementsByTagName(\"Hsp_num\")[0].firstChild.data)\n",
    "                query_from = int(hit.getElementsByTagName(\"Hsp_query-from\")[0].firstChild.data)\n",
    "                query_to = int(hit.getElementsByTagName(\"Hsp_query-to\")[0].firstChild.data)\n",
    "                hit_from = int(hit.getElementsByTagName(\"Hsp_hit-from\")[0].firstChild.data)\n",
    "                hit_to = int(hit.getElementsByTagName(\"Hsp_hit-to\")[0].firstChild.data)\n",
    "                align_len = int(hit.getElementsByTagName(\"Hsp_align-len\")[0].firstChild.data)\n",
    "                Hsp_qseq = str(hit.getElementsByTagName(\"Hsp_qseq\")[0].firstChild.data)\n",
    "                Hsp_hseq = str(hit.getElementsByTagName(\"Hsp_hseq\")[0].firstChild.data)\n",
    "                Hsp_midline = str(hit.getElementsByTagName(\"Hsp_midline\")[0].firstChild.data)\n",
    "                dt = []\n",
    "                dt.extend((query, query_len, hit_num, hit_desc, hsp_num, query_from, query_to, hit_from, hit_to, align_len, Hsp_qseq, Hsp_hseq, Hsp_midline))\n",
    "                data.append(dt)\n",
    "col = ['Query', 'Query_length', 'Hit_num', 'Hit_description','Hsp_num', 'Query_from', 'Query_to', 'Hit_from', 'Hit_to', 'Alignment_length', 'Query_seq', 'Hit_seq', 'Midline']\n",
    "\n",
    "data = pd.DataFrame(data)\n",
    "data.columns = col\n",
    "print(data.shape)\n",
    "data.drop_duplicates(keep='first')\n",
    "print(data.shape)\n",
    "data.to_csv(\"Sequence/output/To_W303/strain_specific_ori_cl_W303.txt\", index=False, sep='\\t')"
   ]
  },
  {
   "cell_type": "code",
   "execution_count": null,
   "metadata": {
    "collapsed": true
   },
   "outputs": [],
   "source": []
  }
 ],
 "metadata": {
  "anaconda-cloud": {},
  "kernelspec": {
   "display_name": "Python [conda env:python3]",
   "language": "python",
   "name": "conda-env-python3-py"
  },
  "language_info": {
   "codemirror_mode": {
    "name": "ipython",
    "version": 3
   },
   "file_extension": ".py",
   "mimetype": "text/x-python",
   "name": "python",
   "nbconvert_exporter": "python",
   "pygments_lexer": "ipython3",
   "version": "3.5.2"
  }
 },
 "nbformat": 4,
 "nbformat_minor": 1
}
